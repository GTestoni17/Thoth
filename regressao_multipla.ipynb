{
 "cells": [
  {
   "cell_type": "code",
   "execution_count": 98,
   "metadata": {},
   "outputs": [],
   "source": [
    "import pandas as pd\n",
    "import seaborn as sns\n",
    "import matplotlib.pyplot as plt\n",
    "import numpy as np\n",
    "import statsmodels.api as sm"
   ]
  },
  {
   "cell_type": "code",
   "execution_count": 120,
   "metadata": {},
   "outputs": [],
   "source": [
    "# ao inves de pib per capta, fazer com idh. Desconsiderar densidade populacional e populaçao absoluta.\n",
    "# focar na média de idade como índice principal.\n",
    "from sklearn.preprocessing import PolynomialFeatures, StandardScaler"
   ]
  },
  {
   "cell_type": "code",
   "execution_count": 95,
   "metadata": {},
   "outputs": [],
   "source": [
    "data = pd.read_excel('dados estados eua.xlsx')"
   ]
  },
  {
   "cell_type": "code",
   "execution_count": 146,
   "metadata": {},
   "outputs": [
    {
     "data": {
      "text/plain": [
       "(50, 3)"
      ]
     },
     "execution_count": 146,
     "metadata": {},
     "output_type": "execute_result"
    }
   ],
   "source": [
    "X = np.array(data[['IDH' , 'Media_Idade', 'densidade_do_ar']])\n",
    "X.shape\n",
    "poly = PolynomialFeatures(degree=3)\n",
    "scaler = StandardScaler()\n",
    "X_squared = poly.fit_transform(X)"
   ]
  },
  {
   "cell_type": "code",
   "execution_count": null,
   "metadata": {},
   "outputs": [],
   "source": []
  },
  {
   "cell_type": "code",
   "execution_count": 147,
   "metadata": {},
   "outputs": [],
   "source": [
    "y1 = np.array(data['casos_positivos'])\n",
    "y2 = np.array(data['mortes'])"
   ]
  },
  {
   "cell_type": "code",
   "execution_count": 154,
   "metadata": {},
   "outputs": [],
   "source": [
    "mod = sm.OLS(y2, X)"
   ]
  },
  {
   "cell_type": "code",
   "execution_count": 155,
   "metadata": {},
   "outputs": [],
   "source": [
    "fii = mod.fit()"
   ]
  },
  {
   "cell_type": "code",
   "execution_count": 156,
   "metadata": {},
   "outputs": [
    {
     "data": {
      "text/html": [
       "<table class=\"simpletable\">\n",
       "<tr>\n",
       "          <td>Model:</td>                 <td>OLS</td>       <td>Adj. R-squared (uncentered):</td>    <td>0.214</td>  \n",
       "</tr>\n",
       "<tr>\n",
       "    <td>Dependent Variable:</td>           <td>y</td>                    <td>AIC:</td>              <td>983.5679</td> \n",
       "</tr>\n",
       "<tr>\n",
       "           <td>Date:</td>          <td>2020-05-31 22:00</td>             <td>BIC:</td>              <td>989.3040</td> \n",
       "</tr>\n",
       "<tr>\n",
       "     <td>No. Observations:</td>           <td>50</td>               <td>Log-Likelihood:</td>         <td>-488.78</td> \n",
       "</tr>\n",
       "<tr>\n",
       "         <td>Df Model:</td>                <td>3</td>                <td>F-statistic:</td>            <td>5.548</td>  \n",
       "</tr>\n",
       "<tr>\n",
       "       <td>Df Residuals:</td>             <td>47</td>             <td>Prob (F-statistic):</td>       <td>0.00241</td> \n",
       "</tr>\n",
       "<tr>\n",
       "  <td>R-squared (uncentered):</td>       <td>0.262</td>                 <td>Scale:</td>            <td>1.9295e+07</td>\n",
       "</tr>\n",
       "</table>\n",
       "<table class=\"simpletable\">\n",
       "<tr>\n",
       "   <td></td>     <th>Coef.</th>     <th>Std.Err.</th>     <th>t</th>     <th>P>|t|</th>   <th>[0.025</th>      <th>0.975]</th>  \n",
       "</tr>\n",
       "<tr>\n",
       "  <th>x1</th> <td>12898.5339</td>  <td>12043.3026</td> <td>1.0710</td>  <td>0.2896</td> <td>-11329.4657</td> <td>37126.5336</td>\n",
       "</tr>\n",
       "<tr>\n",
       "  <th>x2</th>  <td>433.9334</td>    <td>266.7913</td>  <td>1.6265</td>  <td>0.1105</td>  <td>-102.7815</td>   <td>970.6483</td> \n",
       "</tr>\n",
       "<tr>\n",
       "  <th>x3</th> <td>-22486.0662</td>  <td>9738.0907</td> <td>-2.3091</td> <td>0.0254</td> <td>-42076.5778</td> <td>-2895.5546</td>\n",
       "</tr>\n",
       "</table>\n",
       "<table class=\"simpletable\">\n",
       "<tr>\n",
       "     <td>Omnibus:</td>    <td>72.981</td>  <td>Durbin-Watson:</td>    <td>2.141</td> \n",
       "</tr>\n",
       "<tr>\n",
       "  <td>Prob(Omnibus):</td>  <td>0.000</td> <td>Jarque-Bera (JB):</td> <td>855.622</td>\n",
       "</tr>\n",
       "<tr>\n",
       "       <td>Skew:</td>      <td>3.810</td>     <td>Prob(JB):</td>      <td>0.000</td> \n",
       "</tr>\n",
       "<tr>\n",
       "     <td>Kurtosis:</td>   <td>21.779</td>  <td>Condition No.:</td>     <td>863</td>  \n",
       "</tr>\n",
       "</table>"
      ],
      "text/plain": [
       "<class 'statsmodels.iolib.summary2.Summary'>\n",
       "\"\"\"\n",
       "                        Results: Ordinary least squares\n",
       "================================================================================\n",
       "Model:                  OLS              Adj. R-squared (uncentered): 0.214     \n",
       "Dependent Variable:     y                AIC:                         983.5679  \n",
       "Date:                   2020-05-31 22:00 BIC:                         989.3040  \n",
       "No. Observations:       50               Log-Likelihood:              -488.78   \n",
       "Df Model:               3                F-statistic:                 5.548     \n",
       "Df Residuals:           47               Prob (F-statistic):          0.00241   \n",
       "R-squared (uncentered): 0.262            Scale:                       1.9295e+07\n",
       "-----------------------------------------------------------------------------------\n",
       "           Coef.        Std.Err.        t       P>|t|        [0.025        0.975]  \n",
       "-----------------------------------------------------------------------------------\n",
       "x1       12898.5339    12043.3026     1.0710    0.2896    -11329.4657    37126.5336\n",
       "x2         433.9334      266.7913     1.6265    0.1105      -102.7815      970.6483\n",
       "x3      -22486.0662     9738.0907    -2.3091    0.0254    -42076.5778    -2895.5546\n",
       "--------------------------------------------------------------------------------\n",
       "Omnibus:                  72.981            Durbin-Watson:               2.141  \n",
       "Prob(Omnibus):            0.000             Jarque-Bera (JB):            855.622\n",
       "Skew:                     3.810             Prob(JB):                    0.000  \n",
       "Kurtosis:                 21.779            Condition No.:               863    \n",
       "================================================================================\n",
       "\n",
       "\"\"\""
      ]
     },
     "execution_count": 156,
     "metadata": {},
     "output_type": "execute_result"
    }
   ],
   "source": [
    "fii.summary2()"
   ]
  },
  {
   "cell_type": "code",
   "execution_count": 114,
   "metadata": {},
   "outputs": [],
   "source": [
    "# X1 = HDI, X2 = average age, X3 = air density, y = deaths by covid"
   ]
  },
  {
   "cell_type": "code",
   "execution_count": null,
   "metadata": {},
   "outputs": [],
   "source": []
  }
 ],
 "metadata": {
  "kernelspec": {
   "display_name": "Python 3",
   "language": "python",
   "name": "python3"
  },
  "language_info": {
   "codemirror_mode": {
    "name": "ipython",
    "version": 3
   },
   "file_extension": ".py",
   "mimetype": "text/x-python",
   "name": "python",
   "nbconvert_exporter": "python",
   "pygments_lexer": "ipython3",
   "version": "3.7.6"
  }
 },
 "nbformat": 4,
 "nbformat_minor": 4
}
